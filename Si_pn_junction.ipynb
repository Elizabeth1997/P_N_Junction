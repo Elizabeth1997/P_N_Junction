{
 "cells": [
  {
   "cell_type": "markdown",
   "metadata": {},
   "source": [
    "## Basic PN junction with no applied bais"
   ]
  },
  {
   "cell_type": "markdown",
   "metadata": {},
   "source": [
    "Consider a step junction in which the doping concentration is uniform in each region and there is an abrupt change in doping at the junc- tion. Initially, at the metallurgical junction, there is a very large density gradient in both electron and hole concentrations.\n",
    "\n",
    "Majority carrier electrons in the n region will begin diffusing into the p region, and majority carrier holes in the p region will begin diffusing into the n region.\n",
    "\n",
    "Based on two assumptions:\n",
    "1. Boltzmann approximation is valid, which means that each semiconductor region is nondegenerately doped.\n",
    "2. Complete ionization exists, which means that the tempera- ture of the pn junction is not “too low.”"
   ]
  },
  {
   "cell_type": "markdown",
   "metadata": {},
   "source": [
    "### Bandgap diagram\n",
    "![Alt text](./images/1.png)"
   ]
  },
  {
   "cell_type": "markdown",
   "metadata": {},
   "source": [
    "### Built-in Potential Barrier \n",
    "![Alt text](./images/2.png)"
   ]
  },
  {
   "cell_type": "markdown",
   "metadata": {},
   "source": [
    "The electric field is determined from Poisson’s equation, which, for a one- dimensional analysis, is\n",
    "![Alt text](./images/3.png)\n",
    "![Alt text](./images/11.png)\n",
    "### Space Charge Width\n",
    "![Alt text](./images/6.png)\n",
    "![Alt text](./images/4.png)\n",
    "![Alt text](./images/5.png)"
   ]
  },
  {
   "cell_type": "markdown",
   "metadata": {},
   "source": [
    "### Built-in Electric Field\n",
    "![Alt text](./images/9.png)\n",
    "![Alt text](./images/10.png)"
   ]
  },
  {
   "cell_type": "markdown",
   "metadata": {},
   "source": [
    "### Consider Temperature\n",
    "![Alt text](./images/12.png)\n",
    "![Alt text](./images/13.png)\n",
    "![Alt text](./images/14.png)"
   ]
  },
  {
   "cell_type": "markdown",
   "metadata": {},
   "source": [
    "### Temperature dependency of Eg of Si\n",
    "![Alt text](./images/15.png)\n",
    "![Alt text](./images/16.png)"
   ]
  },
  {
   "cell_type": "markdown",
   "metadata": {},
   "source": [
    "assign values for releveant parameters"
   ]
  },
  {
   "cell_type": "code",
   "execution_count": 1,
   "metadata": {},
   "outputs": [],
   "source": [
    "from sympy import Symbol\n",
    "import math\n",
    "from decimal import Decimal\n",
    "import numpy as np\n",
    "# some constants needed\n",
    "# m0 = 9.11 x 10^-31 kg is the free electron rest mass.\n",
    "H = 6.62607004 * 10**(-34) # plank constant whose unit is m2kg/s\n",
    "M0 = 9.11 * 10**(-31) # kg\n",
    "EG_0 = 1.166 # ev\n",
    "alpha = 4.73 * 10**(-4) #ev/k\n",
    "beta = 636 # k \n",
    "# 300K At 300 K (room temperature), kT = 0.0259 eV.\n",
    "RT = 300 # room temperature\n",
    "KT_ev = 0.0259\n",
    "VT = 0.02586 # vt = kt/e thermal voltage unit: v\n",
    "N_V = 1.04 * 10**19\n",
    "N_C = 2.8 * 10**19\n",
    "Na_magnitude = 10**16\n",
    "Nd_magnitude = 10**15\n",
    "permittivity_si = 11.7 * (8.85 * 10**(-14)) # unit is F/cm^2\n",
    "e = 1.6 * 10**(-19)\n",
    "# kT is the product of the Boltzmann constant and the temperature,\n",
    "# calculate the intrinsic electron concentration's square"
   ]
  },
  {
   "cell_type": "code",
   "execution_count": 2,
   "metadata": {},
   "outputs": [],
   "source": [
    "def cal_ni_square(temperature=300):\n",
    "    if temperature == 300:\n",
    "        ni_square = (1.5 * 10**10)**2\n",
    "    else:\n",
    "        ratio = temperature/RT\n",
    "        change_term = ratio**(3/2)\n",
    "        Nv = N_V * change_term\n",
    "        Nc = N_C * change_term\n",
    "        band_gap = cal_bandgap(temperature)\n",
    "        kt = KT_ev * ratio\n",
    "        ni_square = Nv * Nc * math.exp(-band_gap/kt)\n",
    "#     ni_square = math.sqrt(ni_square)\n",
    "    print('When T is {}k, ni^2 is {:2E}cm^(-6)'.format(temperature,ni_square))\n",
    "    return ni_square"
   ]
  },
  {
   "cell_type": "code",
   "execution_count": 3,
   "metadata": {},
   "outputs": [],
   "source": [
    "# the unit of temperature parameter is k\n",
    "def cal_bandgap(temperature=300):\n",
    "    Eg = EG_0 - (alpha * temperature**2)/(temperature + beta)\n",
    "    Eg = round(Eg,3)\n",
    "    print('When T is {}k, the bandgap of Si is {}ev.'.format(temperature,Eg))\n",
    "    return Eg"
   ]
  },
  {
   "cell_type": "code",
   "execution_count": 4,
   "metadata": {},
   "outputs": [],
   "source": [
    "def na_nd(na=1, nd=1):\n",
    "    return Na_magnitude * na, Nd_magnitude * nd"
   ]
  },
  {
   "cell_type": "code",
   "execution_count": 15,
   "metadata": {},
   "outputs": [],
   "source": [
    "def cal_vbi(na=1, nd=1, t=300):\n",
    "    Na, Nd = na_nd(na=na, nd=nd)\n",
    "    ni_square = cal_ni_square(temperature=t)\n",
    "#     ni_square = (1.5 * 10**10)**2\n",
    "    vbi = VT * math.log(Na * Nd / ni_square)\n",
    "    return vbi  # unit is v"
   ]
  },
  {
   "cell_type": "code",
   "execution_count": 11,
   "metadata": {},
   "outputs": [],
   "source": [
    "# space charge width calculation\n",
    "# permittivity of the semiconductor\n",
    "def cal_space_charge_width(na=1, nd=1, t=300, applied_voltage=0):\n",
    "    Na, Nd = na_nd(na=na, nd=nd)\n",
    "    Na_Nd = Na / Nd\n",
    "    Nd_Na = 1/Na_Nd\n",
    "    Na_plus_Nd = Na + Nd\n",
    "    vbi = cal_vbi(na=na,nd=nd,t=t)\n",
    "    # the default value of applied_voltage is zero, reverse bais is positive\n",
    "    first_part = (2*permittivity_si*(vbi+applied_voltage))/e\n",
    "    third_part = 1/Na_plus_Nd\n",
    "    # vectoralization\n",
    "    xn = (first_part * Na_Nd * third_part)**(1/2)\n",
    "    xp = (first_part * Nd_Na * third_part)**(1/2)\n",
    "    w = xn + xp\n",
    "    width = np.array([xn,xp,w])\n",
    "    # the units of xn xp and w are all cm\n",
    "    # convert the unit from cm to μm time 10 to the power 4/ 10 to the 4\n",
    "    return np.around(width*10**4,decimals=4)"
   ]
  },
  {
   "cell_type": "code",
   "execution_count": 16,
   "metadata": {},
   "outputs": [],
   "source": [
    "# built in max electric field without applied bais\n",
    "def cal_max_electric_field(na=1, nd=1, t=300):\n",
    "    Na, Nd = na_nd(na=na, nd=nd)\n",
    "    charge_width = list(cal_space_charge_width(na=na, nd=nd, t=t))\n",
    "    e_max = (-e * Na)/permittivity_si * charge_width[1] * 10**(-4) # using xp to calculate\n",
    "    return e_max # unit is v/cm"
   ]
  },
  {
   "cell_type": "markdown",
   "metadata": {},
   "source": [
    "input the max e field, give the na and nd"
   ]
  },
  {
   "cell_type": "code",
   "execution_count": 25,
   "metadata": {},
   "outputs": [],
   "source": [
    "def cal_max_electric_field_with_bais(na=1, nd=1, t=300, applied_voltage=0):\n",
    "    Na, Nd = na_nd(na=na, nd=nd)\n",
    "    charge_width = list(cal_space_charge_width(na=na, nd=nd, t=t, applied_voltage=applied_voltage))\n",
    "    vbi = cal_vbi(na=na,nd=nd,t=t)\n",
    "    e_max = (-2*(vbi+applied_voltage)/(charge_width[2]*10**(-4)))\n",
    "    return e_max"
   ]
  },
  {
   "cell_type": "code",
   "execution_count": 26,
   "metadata": {},
   "outputs": [
    {
     "name": "stdout",
     "output_type": "stream",
     "text": [
      "When T is 300k, ni^2 is 2.250000E+20cm^(-6)\n",
      "When T is 300k, ni^2 is 2.250000E+20cm^(-6)\n"
     ]
    },
    {
     "data": {
      "text/plain": [
       "-253795.81976143917"
      ]
     },
     "execution_count": 26,
     "metadata": {},
     "output_type": "execute_result"
    }
   ],
   "source": [
    "cal_max_electric_field_with_bais(na=20, nd=8.43, t=300, applied_voltage=25)"
   ]
  },
  {
   "cell_type": "code",
   "execution_count": 9,
   "metadata": {},
   "outputs": [
    {
     "name": "stdout",
     "output_type": "stream",
     "text": [
      "When T is 300k, ni^2 is 2.250000E+20cm^(-6)\n"
     ]
    },
    {
     "data": {
      "text/plain": [
       "array([0.1054, 1.0536, 1.159 ])"
      ]
     },
     "execution_count": 9,
     "metadata": {},
     "output_type": "execute_result"
    }
   ],
   "source": [
    "cal_space_charge_width(na=0.5, nd=50, applied_voltage=4)"
   ]
  },
  {
   "cell_type": "code",
   "execution_count": 27,
   "metadata": {},
   "outputs": [
    {
     "name": "stdout",
     "output_type": "stream",
     "text": [
      "When T is 300k, ni^2 is 2.250000E+20cm^(-6)\n"
     ]
    },
    {
     "data": {
      "text/plain": [
       "-13350.717079530641"
      ]
     },
     "execution_count": 27,
     "metadata": {},
     "output_type": "execute_result"
    }
   ],
   "source": [
    "cal_builtin_electric_field(na=1, nd=1, t=300)"
   ]
  },
  {
   "cell_type": "code",
   "execution_count": 7,
   "metadata": {},
   "outputs": [
    {
     "name": "stdout",
     "output_type": "stream",
     "text": [
      "When T is 300k, the bandgap of Si is 1.121ev.\n"
     ]
    },
    {
     "data": {
      "text/plain": [
       "1.121"
      ]
     },
     "execution_count": 7,
     "metadata": {},
     "output_type": "execute_result"
    }
   ],
   "source": [
    "cal_bandgap(300)"
   ]
  },
  {
   "cell_type": "code",
   "execution_count": 31,
   "metadata": {},
   "outputs": [
    {
     "name": "stdout",
     "output_type": "stream",
     "text": [
      "When T is 300k, the bandgap of Si is 1.121ev.\n",
      "When T is 300k, ni^2 is 4.646451E+19cm^(-6)\n"
     ]
    },
    {
     "data": {
      "text/plain": [
       "4.646450595667298e+19"
      ]
     },
     "execution_count": 31,
     "metadata": {},
     "output_type": "execute_result"
    }
   ],
   "source": [
    "cal_ni_square()"
   ]
  },
  {
   "cell_type": "code",
   "execution_count": 14,
   "metadata": {},
   "outputs": [
    {
     "name": "stdout",
     "output_type": "stream",
     "text": [
      "When T is 300k, ni^2 is 2.250000E+20cm^(-6)\n"
     ]
    },
    {
     "data": {
      "text/plain": [
       "0.7172628289928237"
      ]
     },
     "execution_count": 14,
     "metadata": {},
     "output_type": "execute_result"
    }
   ],
   "source": [
    "cal_vbi(na=0.5, nd=50) # ni is 1.5 * 10**10  experimental result"
   ]
  },
  {
   "cell_type": "code",
   "execution_count": 49,
   "metadata": {},
   "outputs": [
    {
     "name": "stdout",
     "output_type": "stream",
     "text": [
      "When T is 300k, the bandgap of Si is 1.121ev.\n",
      "When T is 300k, ni^2 is 4.646451E+19cm^(-6)\n"
     ]
    },
    {
     "data": {
      "text/plain": [
       "0.7522842031586012"
      ]
     },
     "execution_count": 49,
     "metadata": {},
     "output_type": "execute_result"
    }
   ],
   "source": [
    "cal_vbi(na=20) # ni is theoretical result"
   ]
  },
  {
   "cell_type": "markdown",
   "metadata": {},
   "source": [
    "### The difference between Vbi calculated based on experimental ni and theoretical ni is 0.04v, is it acceptable? If I wanna use experimental resule, how can I calculate ni at any temperature which is not RM?"
   ]
  },
  {
   "cell_type": "code",
   "execution_count": null,
   "metadata": {},
   "outputs": [],
   "source": []
  }
 ],
 "metadata": {
  "kernelspec": {
   "display_name": "Python 3",
   "language": "python",
   "name": "python3"
  },
  "language_info": {
   "codemirror_mode": {
    "name": "ipython",
    "version": 3
   },
   "file_extension": ".py",
   "mimetype": "text/x-python",
   "name": "python",
   "nbconvert_exporter": "python",
   "pygments_lexer": "ipython3",
   "version": "3.7.0"
  }
 },
 "nbformat": 4,
 "nbformat_minor": 2
}
